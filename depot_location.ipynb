{
 "cells": [
  {
   "cell_type": "code",
   "execution_count": 3,
   "metadata": {},
   "outputs": [
    {
     "name": "stdout",
     "output_type": "stream",
     "text": [
      "Selected Depot Locations: [317 196   9   6  36   4   3 362  10  21 281 198 319   0  14]\n",
      "Location Assignments: [13 13 13 ...  2  2  2]\n"
     ]
    }
   ],
   "source": [
    "import numpy as np\n",
    "import pandas as pd\n",
    "\n",
    "def initialize_depots(num_depots, num_locations):\n",
    "    # Randomly select initial depot locations\n",
    "    return np.random.choice(num_locations, num_depots, replace=False)\n",
    "\n",
    "def assign_locations_to_depots(distances, depots):\n",
    "    # Assign each location to the nearest depot\n",
    "    assignments = np.argmin(distances[:, depots], axis=1)\n",
    "    return assignments\n",
    "\n",
    "def update_depots_locations(distances, assignments, num_depots):\n",
    "    new_depots = np.zeros(num_depots, dtype=int)\n",
    "    \n",
    "    for depot in range(num_depots):\n",
    "        # Find the location indices with the minimum total distance to others assigned to the same depot\n",
    "        locations_for_depot = np.where(assignments == depot)[0]\n",
    "        total_distances = np.sum(distances[locations_for_depot][:, locations_for_depot])\n",
    "        new_depots[depot] = locations_for_depot[np.argmin(total_distances)]\n",
    "    \n",
    "    return new_depots\n",
    "\n",
    "def p_median(distance_matrix, num_depots, max_iterations=100):\n",
    "    num_locations = len(distance_matrix)\n",
    "    \n",
    "    # Step 1: Initialization\n",
    "    depots = initialize_depots(num_depots, num_locations)\n",
    "    \n",
    "    for iteration in range(max_iterations):\n",
    "        # Step 2: Assignment\n",
    "        assignments = assign_locations_to_depots(distance_matrix.values, depots)\n",
    "        \n",
    "        # Step 3: Update Depot Locations\n",
    "        new_depots = update_depots_locations(distance_matrix.values, assignments, num_depots)\n",
    "        \n",
    "        # Check for convergence\n",
    "        if np.array_equal(depots, new_depots):\n",
    "            break\n",
    "        \n",
    "        depots = new_depots\n",
    "    \n",
    "    return depots, assignments\n",
    "\n",
    "# Example usage\n",
    "np.random.seed(42)  # for reproducibility\n",
    "distance_matrix = pd.read_csv(f'D:\\GitHub\\waste_to_energy\\d32f0742246d11ee\\dataset\\Distance_Matrix.csv', index_col=0)\n",
    "num_depots = 15\n",
    "selected_depots, location_assignments = p_median(distance_matrix, num_depots)\n",
    "\n",
    "print(\"Selected Depot Locations:\", selected_depots)\n",
    "print(\"Location Assignments:\", location_assignments)"
   ]
  }
 ],
 "metadata": {
  "kernelspec": {
   "display_name": "Python 3",
   "language": "python",
   "name": "python3"
  },
  "language_info": {
   "codemirror_mode": {
    "name": "ipython",
    "version": 3
   },
   "file_extension": ".py",
   "mimetype": "text/x-python",
   "name": "python",
   "nbconvert_exporter": "python",
   "pygments_lexer": "ipython3",
   "version": "3.9.0"
  }
 },
 "nbformat": 4,
 "nbformat_minor": 2
}
